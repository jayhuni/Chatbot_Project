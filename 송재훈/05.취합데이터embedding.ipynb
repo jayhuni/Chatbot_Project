{
 "cells": [
  {
   "cell_type": "markdown",
   "metadata": {},
   "source": [
    "## 취합 데이터 임베딩"
   ]
  },
  {
   "cell_type": "code",
   "execution_count": 6,
   "metadata": {},
   "outputs": [],
   "source": [
    "import pandas as pd\n",
    "from sentence_transformers import SentenceTransformer\n",
    "from sklearn.metrics.pairwise import cosine_similarity\n",
    "import numpy as np"
   ]
  },
  {
   "cell_type": "code",
   "execution_count": 7,
   "metadata": {},
   "outputs": [],
   "source": [
    "# 모델\n",
    "model = SentenceTransformer('jhgan/ko-sroberta-multitask')"
   ]
  },
  {
   "cell_type": "code",
   "execution_count": 8,
   "metadata": {},
   "outputs": [
    {
     "data": {
      "text/html": [
       "<div>\n",
       "<style scoped>\n",
       "    .dataframe tbody tr th:only-of-type {\n",
       "        vertical-align: middle;\n",
       "    }\n",
       "\n",
       "    .dataframe tbody tr th {\n",
       "        vertical-align: top;\n",
       "    }\n",
       "\n",
       "    .dataframe thead th {\n",
       "        text-align: right;\n",
       "    }\n",
       "</style>\n",
       "<table border=\"1\" class=\"dataframe\">\n",
       "  <thead>\n",
       "    <tr style=\"text-align: right;\">\n",
       "      <th></th>\n",
       "      <th>Unnamed: 0</th>\n",
       "      <th>구분</th>\n",
       "      <th>질문</th>\n",
       "      <th>답변</th>\n",
       "    </tr>\n",
       "  </thead>\n",
       "  <tbody>\n",
       "    <tr>\n",
       "      <th>0</th>\n",
       "      <td>0</td>\n",
       "      <td>팁</td>\n",
       "      <td>아파트를 매도할때 집 앞에 부동산에만 얘기를 할지동네 부동산에 전부다 얘기를 할지 ...</td>\n",
       "      <td>최소3군데가봐야정확한가격이나옵니다.</td>\n",
       "    </tr>\n",
       "    <tr>\n",
       "      <th>1</th>\n",
       "      <td>1</td>\n",
       "      <td>팁</td>\n",
       "      <td>제꿈이 부동산을 운영하면서 매매도 열심히해드리고 돈도 많이벌고싶은 22살입니다 부동...</td>\n",
       "      <td>부동산을 운영하고 돈을 버는 것은 나이와는 전혀 상관이 없다고 해야겠지요 .일단 부...</td>\n",
       "    </tr>\n",
       "    <tr>\n",
       "      <th>2</th>\n",
       "      <td>2</td>\n",
       "      <td>팁</td>\n",
       "      <td>사정이 좋지않아서 지금 매수세가 없지만 집을 팔아야하네요ㅜㅜ근처부동산에는 전화돌려보...</td>\n",
       "      <td>일단1. 동네 부동산에 최대한 많이 내놓으세요.2. 가격을 아까우시겠지만 최대한 낮...</td>\n",
       "    </tr>\n",
       "    <tr>\n",
       "      <th>3</th>\n",
       "      <td>3</td>\n",
       "      <td>팁</td>\n",
       "      <td>곧 계약이 다되가서 월세 방을 구해야하는데요이 집 구할때도 부동산 사람이 의도적으로...</td>\n",
       "      <td>여러군데 공인중개사를 통해 다양한 매물을 확인 후 결정해보는것도 방법입니다.각 공인...</td>\n",
       "    </tr>\n",
       "    <tr>\n",
       "      <th>4</th>\n",
       "      <td>4</td>\n",
       "      <td>팁</td>\n",
       "      <td>반려견이 2마리있는데 부동산을 하루에 15곳도 가봤지만하나같이 집이 없다 또는 집주...</td>\n",
       "      <td>안타깝지만 집주인이 반려견을 허락해야지 계약이 됩니다.집주인에게 반려견을 키우는 중...</td>\n",
       "    </tr>\n",
       "    <tr>\n",
       "      <th>...</th>\n",
       "      <td>...</td>\n",
       "      <td>...</td>\n",
       "      <td>...</td>\n",
       "      <td>...</td>\n",
       "    </tr>\n",
       "    <tr>\n",
       "      <th>936</th>\n",
       "      <td>937</td>\n",
       "      <td>월세</td>\n",
       "      <td>아직 계약 기간이 남았는데 사정이 생겨서 월세방 내놓으려고 하는데 원래 계약하던 부...</td>\n",
       "      <td>일반적으로 부동산 관련 업무는 해당 부동산에서 직접 처리하는 것이 원칙입니다. 따라...</td>\n",
       "    </tr>\n",
       "    <tr>\n",
       "      <th>937</th>\n",
       "      <td>938</td>\n",
       "      <td>월세</td>\n",
       "      <td>3월 29일에 부동산 계약서를 작성하고 왔습니다. 계약서상 입주일은 4월 30일이고...</td>\n",
       "      <td>상기 질문요지 및 보증금 규모를 고려할 때 최우선 변제금액에 해당됩니다. 이러한 경...</td>\n",
       "    </tr>\n",
       "    <tr>\n",
       "      <th>938</th>\n",
       "      <td>939</td>\n",
       "      <td>월세</td>\n",
       "      <td>제가 부동산을 끼고 몇주 전 원룸을 월세로 계약했습니다. 그런데 오늘 일방적으로 집...</td>\n",
       "      <td>임대인의 일방적인 계약 파기의 경우일지라도 중개사의 과실이 없다면 중개보수는 지불해...</td>\n",
       "    </tr>\n",
       "    <tr>\n",
       "      <th>939</th>\n",
       "      <td>940</td>\n",
       "      <td>월세</td>\n",
       "      <td>제 와이프가 부업을 한다고 다세대 주택 방3칸짜리 집을 보증금 500에 월세40만원...</td>\n",
       "      <td>먼저 월세를 계속 안내게 되서 보증금이 모두 소진되면 끝이 납니다.더 이상 안내도 ...</td>\n",
       "    </tr>\n",
       "    <tr>\n",
       "      <th>940</th>\n",
       "      <td>941</td>\n",
       "      <td>월세</td>\n",
       "      <td>올 6월14일이 계약 만료인데요 이사갈집에 사정으로 일주일정도 뒤에 이사를 가야해서...</td>\n",
       "      <td>통상적으로는 부동산 수수료는 집주인이 내는게 맞고요. 종료일 이후 월세는 일자별 계...</td>\n",
       "    </tr>\n",
       "  </tbody>\n",
       "</table>\n",
       "<p>941 rows × 4 columns</p>\n",
       "</div>"
      ],
      "text/plain": [
       "     Unnamed: 0  구분                                                 질문  \\\n",
       "0             0   팁  아파트를 매도할때 집 앞에 부동산에만 얘기를 할지동네 부동산에 전부다 얘기를 할지 ...   \n",
       "1             1   팁  제꿈이 부동산을 운영하면서 매매도 열심히해드리고 돈도 많이벌고싶은 22살입니다 부동...   \n",
       "2             2   팁  사정이 좋지않아서 지금 매수세가 없지만 집을 팔아야하네요ㅜㅜ근처부동산에는 전화돌려보...   \n",
       "3             3   팁  곧 계약이 다되가서 월세 방을 구해야하는데요이 집 구할때도 부동산 사람이 의도적으로...   \n",
       "4             4   팁  반려견이 2마리있는데 부동산을 하루에 15곳도 가봤지만하나같이 집이 없다 또는 집주...   \n",
       "..          ...  ..                                                ...   \n",
       "936         937  월세  아직 계약 기간이 남았는데 사정이 생겨서 월세방 내놓으려고 하는데 원래 계약하던 부...   \n",
       "937         938  월세  3월 29일에 부동산 계약서를 작성하고 왔습니다. 계약서상 입주일은 4월 30일이고...   \n",
       "938         939  월세  제가 부동산을 끼고 몇주 전 원룸을 월세로 계약했습니다. 그런데 오늘 일방적으로 집...   \n",
       "939         940  월세  제 와이프가 부업을 한다고 다세대 주택 방3칸짜리 집을 보증금 500에 월세40만원...   \n",
       "940         941  월세  올 6월14일이 계약 만료인데요 이사갈집에 사정으로 일주일정도 뒤에 이사를 가야해서...   \n",
       "\n",
       "                                                    답변  \n",
       "0                                  최소3군데가봐야정확한가격이나옵니다.  \n",
       "1    부동산을 운영하고 돈을 버는 것은 나이와는 전혀 상관이 없다고 해야겠지요 .일단 부...  \n",
       "2    일단1. 동네 부동산에 최대한 많이 내놓으세요.2. 가격을 아까우시겠지만 최대한 낮...  \n",
       "3    여러군데 공인중개사를 통해 다양한 매물을 확인 후 결정해보는것도 방법입니다.각 공인...  \n",
       "4    안타깝지만 집주인이 반려견을 허락해야지 계약이 됩니다.집주인에게 반려견을 키우는 중...  \n",
       "..                                                 ...  \n",
       "936  일반적으로 부동산 관련 업무는 해당 부동산에서 직접 처리하는 것이 원칙입니다. 따라...  \n",
       "937  상기 질문요지 및 보증금 규모를 고려할 때 최우선 변제금액에 해당됩니다. 이러한 경...  \n",
       "938  임대인의 일방적인 계약 파기의 경우일지라도 중개사의 과실이 없다면 중개보수는 지불해...  \n",
       "939  먼저 월세를 계속 안내게 되서 보증금이 모두 소진되면 끝이 납니다.더 이상 안내도 ...  \n",
       "940  통상적으로는 부동산 수수료는 집주인이 내는게 맞고요. 종료일 이후 월세는 일자별 계...  \n",
       "\n",
       "[941 rows x 4 columns]"
      ]
     },
     "execution_count": 8,
     "metadata": {},
     "output_type": "execute_result"
    }
   ],
   "source": [
    "df = pd.read_csv('data/세훈재훈민준_결측수정.csv')\n",
    "df"
   ]
  },
  {
   "cell_type": "code",
   "execution_count": 9,
   "metadata": {},
   "outputs": [
    {
     "data": {
      "text/plain": [
       "구분    0\n",
       "질문    0\n",
       "답변    0\n",
       "dtype: int64"
      ]
     },
     "execution_count": 9,
     "metadata": {},
     "output_type": "execute_result"
    }
   ],
   "source": [
    "# 결측치 체크/ unnamed 제거\n",
    "df.drop(columns=['Unnamed: 0'], inplace=True)\n",
    "df.isna().sum()"
   ]
  },
  {
   "cell_type": "code",
   "execution_count": 10,
   "metadata": {},
   "outputs": [
    {
     "data": {
      "text/plain": [
       "array([[-0.32182026, -0.20621583,  0.64404774, ..., -0.10956375,\n",
       "        -0.2280154 , -0.43031615],\n",
       "       [-0.21403998, -0.86268574,  0.44683865, ...,  0.13510875,\n",
       "         0.05707897, -0.38740823],\n",
       "       [-0.5669588 , -0.14218834,  0.7192543 , ..., -0.0152385 ,\n",
       "        -0.3887536 , -0.7496659 ],\n",
       "       ...,\n",
       "       [-0.5171036 , -0.6705022 ,  0.2625836 , ...,  0.2713544 ,\n",
       "         0.14908469, -0.33853245],\n",
       "       [-0.5894281 , -0.31722456,  0.14221266, ...,  0.18271224,\n",
       "        -0.2944514 , -0.37454388],\n",
       "       [-0.6740633 , -0.32373953, -0.11921342, ...,  0.37463853,\n",
       "         0.28711858, -0.46689513]], dtype=float32)"
      ]
     },
     "execution_count": 10,
     "metadata": {},
     "output_type": "execute_result"
    }
   ],
   "source": [
    "model.encode(df.질문)"
   ]
  },
  {
   "cell_type": "code",
   "execution_count": 11,
   "metadata": {},
   "outputs": [],
   "source": [
    "df['embedding'] = pd.Series([[]] * len(df))"
   ]
  },
  {
   "cell_type": "code",
   "execution_count": 12,
   "metadata": {},
   "outputs": [
    {
     "data": {
      "text/html": [
       "<div>\n",
       "<style scoped>\n",
       "    .dataframe tbody tr th:only-of-type {\n",
       "        vertical-align: middle;\n",
       "    }\n",
       "\n",
       "    .dataframe tbody tr th {\n",
       "        vertical-align: top;\n",
       "    }\n",
       "\n",
       "    .dataframe thead th {\n",
       "        text-align: right;\n",
       "    }\n",
       "</style>\n",
       "<table border=\"1\" class=\"dataframe\">\n",
       "  <thead>\n",
       "    <tr style=\"text-align: right;\">\n",
       "      <th></th>\n",
       "      <th>구분</th>\n",
       "      <th>질문</th>\n",
       "      <th>답변</th>\n",
       "      <th>embedding</th>\n",
       "    </tr>\n",
       "  </thead>\n",
       "  <tbody>\n",
       "    <tr>\n",
       "      <th>0</th>\n",
       "      <td>팁</td>\n",
       "      <td>아파트를 매도할때 집 앞에 부동산에만 얘기를 할지동네 부동산에 전부다 얘기를 할지 ...</td>\n",
       "      <td>최소3군데가봐야정확한가격이나옵니다.</td>\n",
       "      <td>[-0.32182008, -0.20621575, 0.6440478, -0.96665...</td>\n",
       "    </tr>\n",
       "    <tr>\n",
       "      <th>1</th>\n",
       "      <td>팁</td>\n",
       "      <td>제꿈이 부동산을 운영하면서 매매도 열심히해드리고 돈도 많이벌고싶은 22살입니다 부동...</td>\n",
       "      <td>부동산을 운영하고 돈을 버는 것은 나이와는 전혀 상관이 없다고 해야겠지요 .일단 부...</td>\n",
       "      <td>[-0.21403974, -0.86268574, 0.44683862, -0.3513...</td>\n",
       "    </tr>\n",
       "    <tr>\n",
       "      <th>2</th>\n",
       "      <td>팁</td>\n",
       "      <td>사정이 좋지않아서 지금 매수세가 없지만 집을 팔아야하네요ㅜㅜ근처부동산에는 전화돌려보...</td>\n",
       "      <td>일단1. 동네 부동산에 최대한 많이 내놓으세요.2. 가격을 아까우시겠지만 최대한 낮...</td>\n",
       "      <td>[-0.5669588, -0.14218834, 0.7192543, -0.903555...</td>\n",
       "    </tr>\n",
       "  </tbody>\n",
       "</table>\n",
       "</div>"
      ],
      "text/plain": [
       "  구분                                                 질문  \\\n",
       "0  팁  아파트를 매도할때 집 앞에 부동산에만 얘기를 할지동네 부동산에 전부다 얘기를 할지 ...   \n",
       "1  팁  제꿈이 부동산을 운영하면서 매매도 열심히해드리고 돈도 많이벌고싶은 22살입니다 부동...   \n",
       "2  팁  사정이 좋지않아서 지금 매수세가 없지만 집을 팔아야하네요ㅜㅜ근처부동산에는 전화돌려보...   \n",
       "\n",
       "                                                  답변  \\\n",
       "0                                최소3군데가봐야정확한가격이나옵니다.   \n",
       "1  부동산을 운영하고 돈을 버는 것은 나이와는 전혀 상관이 없다고 해야겠지요 .일단 부...   \n",
       "2  일단1. 동네 부동산에 최대한 많이 내놓으세요.2. 가격을 아까우시겠지만 최대한 낮...   \n",
       "\n",
       "                                           embedding  \n",
       "0  [-0.32182008, -0.20621575, 0.6440478, -0.96665...  \n",
       "1  [-0.21403974, -0.86268574, 0.44683862, -0.3513...  \n",
       "2  [-0.5669588, -0.14218834, 0.7192543, -0.903555...  "
      ]
     },
     "execution_count": 12,
     "metadata": {},
     "output_type": "execute_result"
    }
   ],
   "source": [
    "df.embedding = df.질문.map(lambda x: list(model.encode(x)))\n",
    "df.head(3)"
   ]
  },
  {
   "cell_type": "code",
   "execution_count": 13,
   "metadata": {},
   "outputs": [],
   "source": [
    "df.to_csv('data/취합데이터셋.csv', index=False)"
   ]
  },
  {
   "cell_type": "code",
   "execution_count": 14,
   "metadata": {},
   "outputs": [
    {
     "data": {
      "text/html": [
       "<div>\n",
       "<style scoped>\n",
       "    .dataframe tbody tr th:only-of-type {\n",
       "        vertical-align: middle;\n",
       "    }\n",
       "\n",
       "    .dataframe tbody tr th {\n",
       "        vertical-align: top;\n",
       "    }\n",
       "\n",
       "    .dataframe thead th {\n",
       "        text-align: right;\n",
       "    }\n",
       "</style>\n",
       "<table border=\"1\" class=\"dataframe\">\n",
       "  <thead>\n",
       "    <tr style=\"text-align: right;\">\n",
       "      <th></th>\n",
       "      <th>구분</th>\n",
       "      <th>질문</th>\n",
       "      <th>답변</th>\n",
       "      <th>embedding</th>\n",
       "    </tr>\n",
       "  </thead>\n",
       "  <tbody>\n",
       "    <tr>\n",
       "      <th>0</th>\n",
       "      <td>팁</td>\n",
       "      <td>아파트를 매도할때 집 앞에 부동산에만 얘기를 할지동네 부동산에 전부다 얘기를 할지 ...</td>\n",
       "      <td>최소3군데가봐야정확한가격이나옵니다.</td>\n",
       "      <td>[-0.32182008, -0.20621575, 0.6440478, -0.96665...</td>\n",
       "    </tr>\n",
       "    <tr>\n",
       "      <th>1</th>\n",
       "      <td>팁</td>\n",
       "      <td>제꿈이 부동산을 운영하면서 매매도 열심히해드리고 돈도 많이벌고싶은 22살입니다 부동...</td>\n",
       "      <td>부동산을 운영하고 돈을 버는 것은 나이와는 전혀 상관이 없다고 해야겠지요 .일단 부...</td>\n",
       "      <td>[-0.21403974, -0.86268574, 0.44683862, -0.3513...</td>\n",
       "    </tr>\n",
       "    <tr>\n",
       "      <th>2</th>\n",
       "      <td>팁</td>\n",
       "      <td>사정이 좋지않아서 지금 매수세가 없지만 집을 팔아야하네요ㅜㅜ근처부동산에는 전화돌려보...</td>\n",
       "      <td>일단1. 동네 부동산에 최대한 많이 내놓으세요.2. 가격을 아까우시겠지만 최대한 낮...</td>\n",
       "      <td>[-0.5669588, -0.14218834, 0.7192543, -0.903555...</td>\n",
       "    </tr>\n",
       "  </tbody>\n",
       "</table>\n",
       "</div>"
      ],
      "text/plain": [
       "  구분                                                 질문  \\\n",
       "0  팁  아파트를 매도할때 집 앞에 부동산에만 얘기를 할지동네 부동산에 전부다 얘기를 할지 ...   \n",
       "1  팁  제꿈이 부동산을 운영하면서 매매도 열심히해드리고 돈도 많이벌고싶은 22살입니다 부동...   \n",
       "2  팁  사정이 좋지않아서 지금 매수세가 없지만 집을 팔아야하네요ㅜㅜ근처부동산에는 전화돌려보...   \n",
       "\n",
       "                                                  답변  \\\n",
       "0                                최소3군데가봐야정확한가격이나옵니다.   \n",
       "1  부동산을 운영하고 돈을 버는 것은 나이와는 전혀 상관이 없다고 해야겠지요 .일단 부...   \n",
       "2  일단1. 동네 부동산에 최대한 많이 내놓으세요.2. 가격을 아까우시겠지만 최대한 낮...   \n",
       "\n",
       "                                           embedding  \n",
       "0  [-0.32182008, -0.20621575, 0.6440478, -0.96665...  \n",
       "1  [-0.21403974, -0.86268574, 0.44683862, -0.3513...  \n",
       "2  [-0.5669588, -0.14218834, 0.7192543, -0.903555...  "
      ]
     },
     "execution_count": 14,
     "metadata": {},
     "output_type": "execute_result"
    }
   ],
   "source": [
    "import json\n",
    "wdf = pd.read_csv('data/취합데이터셋.csv')\n",
    "wdf.embedding = wdf.embedding.apply(json.loads)\n",
    "wdf.head(3)"
   ]
  },
  {
   "cell_type": "code",
   "execution_count": 15,
   "metadata": {},
   "outputs": [],
   "source": [
    "# 사용자가 입력한 문장을 embedding 벡터로 인코딩\n",
    "text = ''\n",
    "embedding = model.encode(text)"
   ]
  },
  {
   "cell_type": "code",
   "execution_count": 16,
   "metadata": {},
   "outputs": [
    {
     "data": {
      "text/html": [
       "<div>\n",
       "<style scoped>\n",
       "    .dataframe tbody tr th:only-of-type {\n",
       "        vertical-align: middle;\n",
       "    }\n",
       "\n",
       "    .dataframe tbody tr th {\n",
       "        vertical-align: top;\n",
       "    }\n",
       "\n",
       "    .dataframe thead th {\n",
       "        text-align: right;\n",
       "    }\n",
       "</style>\n",
       "<table border=\"1\" class=\"dataframe\">\n",
       "  <thead>\n",
       "    <tr style=\"text-align: right;\">\n",
       "      <th></th>\n",
       "      <th>구분</th>\n",
       "      <th>질문</th>\n",
       "      <th>답변</th>\n",
       "      <th>embedding</th>\n",
       "      <th>유사도</th>\n",
       "    </tr>\n",
       "  </thead>\n",
       "  <tbody>\n",
       "    <tr>\n",
       "      <th>0</th>\n",
       "      <td>팁</td>\n",
       "      <td>아파트를 매도할때 집 앞에 부동산에만 얘기를 할지동네 부동산에 전부다 얘기를 할지 ...</td>\n",
       "      <td>최소3군데가봐야정확한가격이나옵니다.</td>\n",
       "      <td>[-0.32182008, -0.20621575, 0.6440478, -0.96665...</td>\n",
       "      <td>0.110434</td>\n",
       "    </tr>\n",
       "    <tr>\n",
       "      <th>1</th>\n",
       "      <td>팁</td>\n",
       "      <td>제꿈이 부동산을 운영하면서 매매도 열심히해드리고 돈도 많이벌고싶은 22살입니다 부동...</td>\n",
       "      <td>부동산을 운영하고 돈을 버는 것은 나이와는 전혀 상관이 없다고 해야겠지요 .일단 부...</td>\n",
       "      <td>[-0.21403974, -0.86268574, 0.44683862, -0.3513...</td>\n",
       "      <td>0.126244</td>\n",
       "    </tr>\n",
       "    <tr>\n",
       "      <th>2</th>\n",
       "      <td>팁</td>\n",
       "      <td>사정이 좋지않아서 지금 매수세가 없지만 집을 팔아야하네요ㅜㅜ근처부동산에는 전화돌려보...</td>\n",
       "      <td>일단1. 동네 부동산에 최대한 많이 내놓으세요.2. 가격을 아까우시겠지만 최대한 낮...</td>\n",
       "      <td>[-0.5669588, -0.14218834, 0.7192543, -0.903555...</td>\n",
       "      <td>0.050005</td>\n",
       "    </tr>\n",
       "  </tbody>\n",
       "</table>\n",
       "</div>"
      ],
      "text/plain": [
       "  구분                                                 질문  \\\n",
       "0  팁  아파트를 매도할때 집 앞에 부동산에만 얘기를 할지동네 부동산에 전부다 얘기를 할지 ...   \n",
       "1  팁  제꿈이 부동산을 운영하면서 매매도 열심히해드리고 돈도 많이벌고싶은 22살입니다 부동...   \n",
       "2  팁  사정이 좋지않아서 지금 매수세가 없지만 집을 팔아야하네요ㅜㅜ근처부동산에는 전화돌려보...   \n",
       "\n",
       "                                                  답변  \\\n",
       "0                                최소3군데가봐야정확한가격이나옵니다.   \n",
       "1  부동산을 운영하고 돈을 버는 것은 나이와는 전혀 상관이 없다고 해야겠지요 .일단 부...   \n",
       "2  일단1. 동네 부동산에 최대한 많이 내놓으세요.2. 가격을 아까우시겠지만 최대한 낮...   \n",
       "\n",
       "                                           embedding       유사도  \n",
       "0  [-0.32182008, -0.20621575, 0.6440478, -0.96665...  0.110434  \n",
       "1  [-0.21403974, -0.86268574, 0.44683862, -0.3513...  0.126244  \n",
       "2  [-0.5669588, -0.14218834, 0.7192543, -0.903555...  0.050005  "
      ]
     },
     "execution_count": 16,
     "metadata": {},
     "output_type": "execute_result"
    }
   ],
   "source": [
    "# 사용자가 입력한 embedding 데이터와 데이터셋에 있는 embedding의 코사인 유사도 계산\n",
    "wdf['유사도'] = wdf.embedding.map(lambda x: cosine_similarity([embedding],[x]).squeeze())\n",
    "# squeeze() 메소드는 리스트형태의 값을 스칼라 값으로 변환해줌\n",
    "wdf.head(3)"
   ]
  },
  {
   "cell_type": "code",
   "execution_count": 17,
   "metadata": {},
   "outputs": [
    {
     "data": {
      "text/plain": [
       "641"
      ]
     },
     "execution_count": 17,
     "metadata": {},
     "output_type": "execute_result"
    }
   ],
   "source": [
    "# 유사도의 값이 최대일 때의 인덱스 \n",
    "wdf.유사도.idxmax()"
   ]
  },
  {
   "cell_type": "code",
   "execution_count": 18,
   "metadata": {},
   "outputs": [
    {
     "data": {
      "text/plain": [
       "구분                                                          전세\n",
       "질문                                                      보증금 계산\n",
       "답변           보증금은 임대인과 임차인 간 협상에 따라 결정됩니다. 일반적으로 전세금의 20%에서...\n",
       "embedding    [-0.33428097, -0.36722305, 0.96747607, -0.6828...\n",
       "유사도                                                   0.411015\n",
       "Name: 641, dtype: object"
      ]
     },
     "execution_count": 18,
     "metadata": {},
     "output_type": "execute_result"
    }
   ],
   "source": [
    "wdf.iloc[wdf.유사도.idxmax()]"
   ]
  },
  {
   "cell_type": "code",
   "execution_count": 20,
   "metadata": {},
   "outputs": [
    {
     "data": {
      "text/plain": [
       "'보증금은 임대인과 임차인 간 협상에 따라 결정됩니다. 일반적으로 전세금의 20%에서 40% 정도가 보증금으로 지불됩니다. 장소, 부동산 시장 상황 및 임대인의 조건에 따라 다를 수 있습니다.'"
      ]
     },
     "execution_count": 20,
     "metadata": {},
     "output_type": "execute_result"
    }
   ],
   "source": [
    "wdf.답변[wdf.유사도.idxmax()]"
   ]
  },
  {
   "cell_type": "code",
   "execution_count": 27,
   "metadata": {},
   "outputs": [
    {
     "data": {
      "text/plain": [
       "'임대인의 일방적인 계약 파기의 경우일지라도 중개사의 과실이 없다면 중개보수는 지불해야 합니다.다만 임차인은 계약금의 배액을 배상 받으실 수 있습니다.\\u200b'"
      ]
     },
     "execution_count": 27,
     "metadata": {},
     "output_type": "execute_result"
    }
   ],
   "source": [
    "text = '월세 계약 파기'\n",
    "embedding = model.encode(text)\n",
    "wdf['유사도'] = wdf.embedding.map(lambda x: cosine_similarity([embedding],[x]).squeeze())\n",
    "answer = wdf.답변[wdf.유사도.idxmax()]\n",
    "answer"
   ]
  },
  {
   "cell_type": "code",
   "execution_count": null,
   "metadata": {},
   "outputs": [],
   "source": []
  }
 ],
 "metadata": {
  "kernelspec": {
   "display_name": "base",
   "language": "python",
   "name": "python3"
  },
  "language_info": {
   "codemirror_mode": {
    "name": "ipython",
    "version": 3
   },
   "file_extension": ".py",
   "mimetype": "text/x-python",
   "name": "python",
   "nbconvert_exporter": "python",
   "pygments_lexer": "ipython3",
   "version": "3.11.4"
  }
 },
 "nbformat": 4,
 "nbformat_minor": 2
}
